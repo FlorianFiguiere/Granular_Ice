{
 "cells": [
  {
   "cell_type": "markdown",
   "id": "a026bab8-f723-46fb-b99e-6589668c0c4f",
   "metadata": {
    "tags": []
   },
   "source": [
    "# Making of a thin film of granular ice\n",
    "\n",
    "The making of a thin film before the creep experiment will allow us to spot recrystallization area and compare grains orientation before and after the experiment.\n",
    "## Extraction of a piece from the sample\n",
    "Concerning thin film of ice, they must be sealed if not used. Due to their geometry, sublimation is far from negligible. On top of that, the sample must be transported in a container thermally insulated. Also be cautious when machining or manipulating the thin film. His thickness make the thin film very brittle.\n",
    "- Prepare a few glass panel (normal and thick one). Wash them with alcohol and dry them then move them in a chamber at -15°C. Move aswell 2-3 pipette and some clean water on a bowl.\n",
    "- Using a band scie machine, cut a part from the sample with the following dimension : same lenght (around 9mm) and a thickness around 10mm. Those value are more of a guideline than anything else : we will reduce his thickness up to 3,5 mm.\n",
    "- Fix the (not yet) thin film on the thickest glass panel. Use a pipette and the clean water to create one drop of clean water at each side of the film. Wait after making one drop of water to avoid building stress. Drops of clean water will act as glue.\n",
    "\n",
    "## Reducing the thickness of the film\n"
   ]
  },
  {
   "cell_type": "code",
   "execution_count": null,
   "id": "ceef41e5-5e34-413e-97b1-9f9ae72aa5ab",
   "metadata": {},
   "outputs": [],
   "source": []
  }
 ],
 "metadata": {
  "kernelspec": {
   "display_name": "Python 3",
   "language": "python",
   "name": "python3"
  },
  "language_info": {
   "codemirror_mode": {
    "name": "ipython",
    "version": 3
   },
   "file_extension": ".py",
   "mimetype": "text/x-python",
   "name": "python",
   "nbconvert_exporter": "python",
   "pygments_lexer": "ipython3",
   "version": "3.9.4"
  }
 },
 "nbformat": 4,
 "nbformat_minor": 5
}
