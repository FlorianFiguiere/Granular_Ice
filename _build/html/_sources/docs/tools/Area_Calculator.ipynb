{
 "cells": [
  {
   "cell_type": "markdown",
   "id": "9d3e8185",
   "metadata": {},
   "source": [
    "# Area sample\n",
    "\n",
    "We cut off a piece of the sample so we need to calculate the area left for our sample in order to calculate the theoretical weight needed to do a creep test with $\\sigma$ = 0,8 MPa."
   ]
  },
  {
   "cell_type": "code",
   "execution_count": 1,
   "id": "9d6edfa3-0a62-4b4d-94a3-1dae9c099dc7",
   "metadata": {},
   "outputs": [],
   "source": [
    "from Various_Functions import*"
   ]
  },
  {
   "cell_type": "markdown",
   "id": "fc4b45f9-240c-47ad-aef2-ec2b0779225f",
   "metadata": {},
   "source": [
    "Give the value Dlarge (and Dsmall if required) in millimeter (see figure below) :"
   ]
  },
  {
   "cell_type": "code",
   "execution_count": 2,
   "id": "efe9909b-86d6-40e1-9272-a6171a3787f2",
   "metadata": {},
   "outputs": [],
   "source": [
    "Dlarge=54.8 # millimeter\n",
    "Dsmall=42.6 # millimeter"
   ]
  },
  {
   "cell_type": "markdown",
   "id": "1774c904-973d-4921-a0a8-c3e27819982e",
   "metadata": {},
   "source": [
    "rVeau=<img src=\"../images/circle_Dlarge_Dsmall.png\" alt=\"circle_diameters\" class=\"bg-primary mb-1\" width=\"400px\">"
   ]
  },
  {
   "cell_type": "code",
   "execution_count": 3,
   "id": "9f8f9226-ed38-431a-8220-c25f0b76b1aa",
   "metadata": {
    "tags": []
   },
   "outputs": [
    {
     "name": "stdout",
     "output_type": "stream",
     "text": [
      "Help on function area_tronc_cyl in module Various_Functions:\n",
      "\n",
      "area_tronc_cyl(Dlarge, Dsmall)\n",
      "    This function compute the surface and the mass to applied on the sample for the experiment\n",
      "    :param Dlarge: circle diameter (unit millimeter) (see schematic)\n",
      "    :type Dlarge: float\n",
      "    :param Dsmall: smaller larger (unit millimeter) (see schematic)\n",
      "    :type Dsmall: float\n",
      "\n",
      "Help on function theor_weight in module Various_Functions:\n",
      "\n",
      "theor_weight(AreaSample, stress=0.8)\n",
      "    This function compute the mass to applied on the sample for the experiment\n",
      "    :param AreaSample: Area of the sample (unit millimeter²) \n",
      "    :type AreaSample: float\n",
      "    :param stress: stress applied on the sample (in MPa)\n",
      "    :type stress: float\n",
      "\n"
     ]
    }
   ],
   "source": [
    "help(area_tronc_cyl)\n",
    "help(theor_weight)"
   ]
  },
  {
   "cell_type": "code",
   "execution_count": 4,
   "id": "7be9475c-3d40-4d75-8af7-835c42a2908f",
   "metadata": {
    "tags": []
   },
   "outputs": [],
   "source": [
    "Af=area_tronc_cyl(Dlarge,Dsmall)\n",
    "Mth=theor_weight(Af)"
   ]
  },
  {
   "cell_type": "code",
   "execution_count": 5,
   "id": "d2ad9a5e",
   "metadata": {},
   "outputs": [
    {
     "name": "stdout",
     "output_type": "stream",
     "text": [
      "Area of the sample = 1967.30 mm²\n",
      "Theoretical weight= 11081.9 g or 11.082 kg\n"
     ]
    }
   ],
   "source": [
    "print(\"Area of the sample = {:.2f} mm²\".format(Af))\n",
    "print(\"Theoretical weight= {:.1f} g or {:.3f} kg\".format(Mth,Mth*0.001))"
   ]
  },
  {
   "cell_type": "markdown",
   "id": "8086d52a-6b89-46b9-aca8-6fd5b03dd462",
   "metadata": {},
   "source": [
    "If needed, there is [the demonstration of the calcul](Demonstration_Area_Calcul.ipynb) made above."
   ]
  }
 ],
 "metadata": {
  "kernelspec": {
   "display_name": "Python 3",
   "language": "python",
   "name": "python3"
  },
  "language_info": {
   "codemirror_mode": {
    "name": "ipython",
    "version": 3
   },
   "file_extension": ".py",
   "mimetype": "text/x-python",
   "name": "python",
   "nbconvert_exporter": "python",
   "pygments_lexer": "ipython3",
   "version": "3.9.4"
  }
 },
 "nbformat": 4,
 "nbformat_minor": 5
}
