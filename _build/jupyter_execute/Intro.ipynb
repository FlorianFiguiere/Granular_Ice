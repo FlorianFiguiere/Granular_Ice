{
 "cells": [
  {
   "cell_type": "markdown",
   "id": "d40e4a54-f844-4e5c-96ab-74a79ee99dfb",
   "metadata": {},
   "source": [
    "Index\n",
    "=======================\n",
    "\n",
    "This Jupyter Book will talk about protocols and experiment used at IGE. The aim is to list protocols and experiment in one place, making easier researches and documentations about ice mechanics. There is below a table of content :\n",
    "\n",
    "- [Building Granular Ice](Docs/Build_Granular_Ice.ipynb) : Protocol on how to build granular ice from clean water.\n",
    "- [What's the area of my sample ?](Docs/Area_Calculator.ipynb) : Function who determine the area of the sample with two measure.\n",
    "- [Machining of the sample for creep experiment](Docs/Creep_Experiment.ipynb) : Protocol on how to machining a sample for a creep experiment\n"
   ]
  },
  {
   "cell_type": "code",
   "execution_count": null,
   "id": "acb7ce29-681b-4832-8919-a404b6df1bbc",
   "metadata": {},
   "outputs": [],
   "source": []
  }
 ],
 "metadata": {
  "kernelspec": {
   "display_name": "Python 3",
   "language": "python",
   "name": "python3"
  },
  "language_info": {
   "codemirror_mode": {
    "name": "ipython",
    "version": 3
   },
   "file_extension": ".py",
   "mimetype": "text/x-python",
   "name": "python",
   "nbconvert_exporter": "python",
   "pygments_lexer": "ipython3",
   "version": "3.9.4"
  }
 },
 "nbformat": 4,
 "nbformat_minor": 5
}