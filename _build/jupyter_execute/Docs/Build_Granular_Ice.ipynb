{
 "cells": [
  {
   "cell_type": "markdown",
   "id": "96db8f04",
   "metadata": {},
   "source": [
    "# Building Granular Ice\n",
    "\n",
    "## Introduction\n",
    "\n",
    "In order to do the experiments, we have to prepare good samples which fit the wanted characteristic (granular ice). No need to make some sampling on natural ice (in moutain or elsewhere) because we can create this ice from chemist water (clean water). Be aware that a few days are required getting the wanted ice so proceed with patience and precision in order to avoid loosing time.\n",
    "\n",
    "##  Preparation of the water\n",
    "At room temperature.\n",
    "- Fill up a balloon with chemist water (clean water).\n",
    "- Boil it during 45 minutes approximately.\n",
    "- Cap the bottle.\n",
    "- Let it cool down at room temperature than put it at 0°C in a chamber (at least one night so the water is at the chamber temperature).\n",
    "\n",
    "## Preparation of the snow\n",
    "\n",
    "- Fill up a box at two third with clean water.\n",
    "- Let it freeze in a chamber at low temperature (for example -15°C) until there is no water left in the box.\n",
    "- Move the box at room temperature, reverse it above a sink and wait for the ice block to fall. Once it drops, move it back in the chamber.\n",
    "- Cut small pieces of ice and crush them into snow. Use a 2 mm sieve to keep only grain bellow 2mm radius.\n",
    "- Fill up a crystallizer up to 4/5. (Slam gently the column with the \"carpet\" in order to pack the snow and reduce as possible the air)\n",
    "- Fold a tissue and put it inside de crystallizer above the snow. Make sure the tissue blocks most of the snow. \n",
    "\n"
   ]
  },
  {
   "cell_type": "markdown",
   "id": "9b4d7eca-5104-47c7-a962-746e48b555bd",
   "metadata": {},
   "source": [
    "## Creation of the granular ice\n",
    "\n",
    "- Move the crystallizer to a chamber at 0°C, put some silicone grease between the crystallizer and his cover. The grease should be applied in a continuous line. Put the cover at the top of the crystallizer.\n",
    "- Connect it to the ballon which contain the water prepared above and a vacuum pump. If possible, connect the balloon at the center of the cover: the distribution of water will be more homogeneous. \n",
    "- Start the pump and let it work during approximately 1 h in order to make the void.\n",
    "- Pinch off the tube and stop the pump.\n",
    "- Reverse the balloon of water and wait for the water to drop in the crystallizer. (The tissue will allow a more homogeneous distribution of water inside the crystallizer).\n",
    "- A line should appeared at the bottom of the crystallizer. When it reach near the edge of the snow at the top, reverse again the balloon.\n",
    "- Allow some air to go in the crystallizer by releasing for a brief instant the pinch. This will pack the snow again, moving the air trapped inside the snow outside.\n",
    "- Use a peltier device at -15°C to create a growth from bottom to top. Put some thermal insulator around the crystallizer. (Control the peltier device's temperature with a thermometer)\n",
    "\n",
    "<img src=\"../Docs/Setup_Crystallization_Peltier.jpg\" alt=\"Setup_Crystallization_Peltier\" class=\"bg-primary mb-1\" width=\"400px\">\n",
    "\n",
    "- When there is no water left in the crystallizer, unmould it like the ice. This should take around 45min-50min. Watch out for any unwanted shock which can brittle the sample. Also don't wait too much : The sample must stay the less possible at room temperature.\n",
    "- Seal it and store it at -5°C for recrystallisation. The seal will stop the sample to be damaged by the sublimation of ice.\n",
    "- Don't forget to put outside of the chamber any part that could work no more with ice formed inside such as the tube between the balloon and the crystallizer.\n",
    "\n",
    "Now, we have a sample of granular ice. But we need to machine it : Reduce the radius, the heigh and correct the parallelism of each base of the sample. We will cut a bit of the sample in order to create a thin film but also a surface on the sample which will receive the mouchti required for Digital Image Correlation (DIC)."
   ]
  },
  {
   "cell_type": "code",
   "execution_count": null,
   "id": "3a55406e-a611-4daa-93ec-462ec61bb703",
   "metadata": {},
   "outputs": [],
   "source": []
  },
  {
   "cell_type": "code",
   "execution_count": null,
   "id": "230fca00-778f-40c4-9957-9916ddb054de",
   "metadata": {},
   "outputs": [],
   "source": []
  },
  {
   "cell_type": "code",
   "execution_count": null,
   "id": "bbae03b6-c679-4097-918d-553cd8bbd078",
   "metadata": {},
   "outputs": [],
   "source": []
  },
  {
   "cell_type": "code",
   "execution_count": null,
   "id": "da98dce6",
   "metadata": {},
   "outputs": [],
   "source": []
  }
 ],
 "metadata": {
  "kernelspec": {
   "display_name": "Python 3",
   "language": "python",
   "name": "python3"
  },
  "language_info": {
   "codemirror_mode": {
    "name": "ipython",
    "version": 3
   },
   "file_extension": ".py",
   "mimetype": "text/x-python",
   "name": "python",
   "nbconvert_exporter": "python",
   "pygments_lexer": "ipython3",
   "version": "3.9.4"
  }
 },
 "nbformat": 4,
 "nbformat_minor": 5
}