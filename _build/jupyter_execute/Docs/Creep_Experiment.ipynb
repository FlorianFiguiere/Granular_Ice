{
 "cells": [
  {
   "cell_type": "markdown",
   "id": "e2d9f9da-cfaf-40ad-92b9-078e5df62ce6",
   "metadata": {},
   "source": [
    "## Creep experiment\n",
    "\n",
    "use Digital Image Correlation (DIC) in order to highlight the dynamic recrystallisation in ice when under a continuous stress (compression). This will allow us to study the behavior of ice in ice cap. \n"
   ]
  },
  {
   "cell_type": "markdown",
   "id": "c5de6e16-7f17-4131-8ac5-c877535af4b8",
   "metadata": {},
   "source": [
    "Use [this link](Area_Calculator.ipynb) to obtain the theoretical weight needed for the creep experiment."
   ]
  },
  {
   "cell_type": "code",
   "execution_count": null,
   "id": "7e4f91a9-eed3-4c4f-8653-ba03cc35af8c",
   "metadata": {},
   "outputs": [],
   "source": []
  },
  {
   "cell_type": "code",
   "execution_count": null,
   "id": "c8e5e54e-8f17-4a60-b204-072cc68a74d4",
   "metadata": {},
   "outputs": [],
   "source": []
  }
 ],
 "metadata": {
  "kernelspec": {
   "display_name": "Python 3",
   "language": "python",
   "name": "python3"
  },
  "language_info": {
   "codemirror_mode": {
    "name": "ipython",
    "version": 3
   },
   "file_extension": ".py",
   "mimetype": "text/x-python",
   "name": "python",
   "nbconvert_exporter": "python",
   "pygments_lexer": "ipython3",
   "version": "3.9.4"
  }
 },
 "nbformat": 4,
 "nbformat_minor": 5
}