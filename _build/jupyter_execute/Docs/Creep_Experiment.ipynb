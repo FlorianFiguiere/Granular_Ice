{
 "cells": [
  {
   "cell_type": "markdown",
   "id": "e2d9f9da-cfaf-40ad-92b9-078e5df62ce6",
   "metadata": {},
   "source": [
    "# Creep experiment\n",
    "\n",
    "## Introduction\n",
    "\n",
    "In this experiment, we will use Digital Image Correlation (DIC) in order to highlight the dynamic recrystallisation in ice when under a continuous stress (in compression). This will allow us to study the behavior of ice in ice cap. \n",
    "\n",
    "(add context of the experiment)\n",
    "\n",
    "## Making of the sample\n",
    "\n",
    "- Create a sample of granular ice following [thoses steps](Build_Granular_Ice.ipynb).\n",
    "- [Machine the granular ice](Machining_Sample.ipynb) in order to obtain a cylindrical sample fitting thoses dimensions : Diameter of 55 mm, height bellow 100 mm.\n",
    "- [Create a thin ice film](Thin_Ice_Film_Making) before deformation and analyse it with [AITA](Thin_Ice_Film_AITA.ipynb).\n",
    "## Setup of the experiment\n",
    "\n",
    "### Setup of the camera\n",
    "\n",
    "### Setup of the light\n",
    "\n",
    "### Setup of the enclosure\n",
    "\n",
    "### Last minute step\n",
    "- Measure the dimension of the sample and [determine the theoretical weight](Area_Calculator.ipynb) needed for the experiment.\n",
    "- Application of the mouchti \n",
    "\n",
    "## Start of the experiment\n",
    "\n",
    "- maintenance of the mouchti\n",
    "\n",
    "## End of the experiment\n",
    "\n",
    "- mouchti and weight release\n",
    "- measure of dimension after deformation\n",
    "\n",
    "- [Make another thin ice film](Thin_Ice_Film_Making.ipynb) after deformation and analyse it with [AITA](Thin_Ice_Film_AITA.ipynb).\n",
    "- sceal the sample for potential experiment or measure.\n",
    "\n",
    "## Analysis\n",
    "\n",
    "Analysis in another notebook."
   ]
  },
  {
   "cell_type": "code",
   "execution_count": null,
   "id": "3991bb2b-b265-4506-be3e-74fe6943b3a4",
   "metadata": {},
   "outputs": [],
   "source": []
  },
  {
   "cell_type": "markdown",
   "id": "c5de6e16-7f17-4131-8ac5-c877535af4b8",
   "metadata": {},
   "source": [
    "Use [this link](Area_Calculator.ipynb) to obtain the theoretical weight needed for the creep experiment."
   ]
  },
  {
   "cell_type": "code",
   "execution_count": null,
   "id": "90670fd4-997a-470e-884d-efc6e823d9c8",
   "metadata": {},
   "outputs": [],
   "source": []
  },
  {
   "cell_type": "markdown",
   "id": "2e61b1bc-96be-4e65-8b25-faac20ddb773",
   "metadata": {},
   "source": [
    "The making of a thin film before the creep experiment will allow us to spot recrystallization area and compare grains orientation before and after the experiment."
   ]
  },
  {
   "cell_type": "code",
   "execution_count": null,
   "id": "c8e5e54e-8f17-4a60-b204-072cc68a74d4",
   "metadata": {},
   "outputs": [],
   "source": []
  }
 ],
 "metadata": {
  "kernelspec": {
   "display_name": "Python 3",
   "language": "python",
   "name": "python3"
  },
  "language_info": {
   "codemirror_mode": {
    "name": "ipython",
    "version": 3
   },
   "file_extension": ".py",
   "mimetype": "text/x-python",
   "name": "python",
   "nbconvert_exporter": "python",
   "pygments_lexer": "ipython3",
   "version": "3.9.4"
  }
 },
 "nbformat": 4,
 "nbformat_minor": 5
}