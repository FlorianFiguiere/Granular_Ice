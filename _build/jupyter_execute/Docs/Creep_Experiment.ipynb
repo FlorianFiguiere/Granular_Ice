{
 "cells": [
  {
   "cell_type": "markdown",
   "id": "e2d9f9da-cfaf-40ad-92b9-078e5df62ce6",
   "metadata": {},
   "source": [
    "# Creep experiment\n",
    "\n",
    "## Introduction\n",
    "\n",
    "In this experiment, we will use Digital Image Correlation (DIC) in order to highlight the dynamic recrystallisation in ice when under a continuous stress (in compression). This will allow us to study the behavior of ice in ice cap. \n",
    "\n",
    "(add context of the experiment)\n",
    "The making of a thin film before the creep experiment will allow us to spot recrystallization area and compare grains orientation before and after the experiment.\n",
    "\n",
    "## Making of the sample\n",
    "\n",
    "- Create a sample of granular ice following [thoses steps](Build_Granular_Ice.ipynb).\n",
    "- [Machine the granular ice](Machining_Sample.ipynb) in order to obtain a cylindrical sample fitting thoses dimensions : Diameter of 55 mm, height bellow 100 mm.\n",
    "- [Create a thin ice film](Thin_Ice_Film_Making) before deformation and analyse it with [AITA](Thin_Ice_Film_AITA.ipynb). \n"
   ]
  },
  {
   "cell_type": "markdown",
   "id": "8478aa3b-30c5-418b-92ac-c58428bec042",
   "metadata": {},
   "source": [
    "## Setup of the experiment\n",
    "\n",
    "<img src=\"../Docs/Setup_experiment.jpg\" alt=\"Setup_Experiment\" class=\"bg-primary mb-1\" width=\"400px\">\n",
    "\n",
    "### Setup of the camera\n",
    "For the experiment, we use a Nikon D850 with a camera lens of 180mm. Use the following settings : \n",
    "- DIC : 4 images every 10 min.\n",
    "- Miror up : 3 secondes\n",
    "- Rafale : 4 images.\n",
    "### Setup of the light\n",
    "Two LED panel are used with two other spot placed as seen on the picture above. Avoid any shadow on the sample : This can distrub the DIC.\n",
    "### Setup of the enclosure\n",
    "\n",
    "### Last minute step\n",
    "- Measure the dimension of the sample and [determine the theoretical weight](Area_Calculator.ipynb) needed for the experiment.\n",
    "- Application of the mouchti \n",
    "\n"
   ]
  },
  {
   "cell_type": "markdown",
   "id": "c5de6e16-7f17-4131-8ac5-c877535af4b8",
   "metadata": {},
   "source": [
    "## Start of the experiment\n",
    "\n",
    "- maintenance of the mouchti\n",
    "\n",
    "## End of the experiment\n",
    "\n",
    "- mouchti and weight release\n",
    "- measure of dimension after deformation\n",
    "\n",
    "- [Make another thin ice film](Thin_Ice_Film_Making.ipynb) after deformation and analyse it with [AITA](Thin_Ice_Film_AITA.ipynb).\n",
    "- sceal the sample for potential experiment or measure.\n",
    "\n",
    "## Analysis\n",
    "\n",
    "Analysis in another notebook."
   ]
  },
  {
   "cell_type": "markdown",
   "id": "2e61b1bc-96be-4e65-8b25-faac20ddb773",
   "metadata": {},
   "source": []
  },
  {
   "cell_type": "code",
   "execution_count": null,
   "id": "c8e5e54e-8f17-4a60-b204-072cc68a74d4",
   "metadata": {},
   "outputs": [],
   "source": []
  }
 ],
 "metadata": {
  "kernelspec": {
   "display_name": "Python 3",
   "language": "python",
   "name": "python3"
  },
  "language_info": {
   "codemirror_mode": {
    "name": "ipython",
    "version": 3
   },
   "file_extension": ".py",
   "mimetype": "text/x-python",
   "name": "python",
   "nbconvert_exporter": "python",
   "pygments_lexer": "ipython3",
   "version": "3.9.4"
  }
 },
 "nbformat": 4,
 "nbformat_minor": 5
}