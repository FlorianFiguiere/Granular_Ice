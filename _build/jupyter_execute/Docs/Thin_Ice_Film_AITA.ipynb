{
 "cells": [
  {
   "cell_type": "markdown",
   "id": "a56985ea-5c60-401f-a8b7-301d2087059b",
   "metadata": {},
   "source": [
    "# AITA"
   ]
  }
 ],
 "metadata": {
  "kernelspec": {
   "display_name": "Python 3",
   "language": "python",
   "name": "python3"
  },
  "language_info": {
   "codemirror_mode": {
    "name": "ipython",
    "version": 3
   },
   "file_extension": ".py",
   "mimetype": "text/x-python",
   "name": "python",
   "nbconvert_exporter": "python",
   "pygments_lexer": "ipython3",
   "version": "3.9.4"
  }
 },
 "nbformat": 4,
 "nbformat_minor": 5
}