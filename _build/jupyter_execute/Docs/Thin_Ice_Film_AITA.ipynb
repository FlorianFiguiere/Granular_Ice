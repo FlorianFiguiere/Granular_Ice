{
 "cells": [
  {
   "cell_type": "markdown",
   "id": "a56985ea-5c60-401f-a8b7-301d2087059b",
   "metadata": {},
   "source": [
    "# AITA\n",
    "\n",
    "\n",
    "In this part, we will explain how to set and use AITA. If you haven't made a thin ice film yet, you can see how to get one from a sample [here](Thin_Ice_Film_Making.ipynb).\n",
    "\n",
    "## Introduction to AITA\n",
    "\n",
    "<img src=\"../Docs/AITA.jpg\" alt=\"AITA\" class=\"bg-primary mb-1\" width=\"400px\">\n",
    "\n",
    "## Setup of AITA\n",
    "\n",
    "## Acquisition "
   ]
  },
  {
   "cell_type": "code",
   "execution_count": null,
   "id": "4aa2653a-2733-4ca0-834b-bf91c8d19cef",
   "metadata": {},
   "outputs": [],
   "source": []
  }
 ],
 "metadata": {
  "kernelspec": {
   "display_name": "Python 3",
   "language": "python",
   "name": "python3"
  },
  "language_info": {
   "codemirror_mode": {
    "name": "ipython",
    "version": 3
   },
   "file_extension": ".py",
   "mimetype": "text/x-python",
   "name": "python",
   "nbconvert_exporter": "python",
   "pygments_lexer": "ipython3",
   "version": "3.9.4"
  }
 },
 "nbformat": 4,
 "nbformat_minor": 5
}