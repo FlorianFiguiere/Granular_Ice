{
 "cells": [
  {
   "cell_type": "markdown",
   "id": "23297ac8-6116-4aab-8076-1c04b89256f5",
   "metadata": {},
   "source": [
    "# Cold environment : important rules and informations to know and follow\n",
    "\n",
    "This part can be boring and look like useless but cold environment are very different than classic laboratory room. For your safety and the quality of the experiment, please take note of the following points.\n",
    "\n",
    "- Before starting any session in cold chamber, clothes must be adapted to the session's lenght and other people must be aware of your session. Head and foot are the most important part to keep warm so boots, hat (one or two) and a fleece suit (or similar) is strongly recommended. Of courses, gloves are mendatory for your own safety.\n",
    "- Due to the low temperature encountered in chamber (from 0°C to -15°C), it is recommended to take breakes when you feel the need to warm yourself up. Precipitation can make you loose days of work so be patient.\n",
    "- Every tools and consommables used in experiments or preparations must be cooled at the chamber temperature before using them. Otherwise, this could melt the snow/ice sample.\n",
    "- Wearing a mask is recommended because human breathe can melt/damage the snow/ice sample.\n",
    "- Before storing any sample, they must be sealed. Otherwise sublimation of ice can damaged the sample. This applied for long term storage as for short one (like a night).\n",
    "- Use isolated container to move sample from a chamber to another. This applied specially to thin film which can be heavly damaged by room temperature.\n",
    "- In the following, when we talk about room temperature, we mean 20-25 °C. Do not confuse room and chamber temperature (which varied depending on the step)."
   ]
  },
  {
   "cell_type": "code",
   "execution_count": null,
   "id": "ac73ce1e-7f00-4cea-b390-054de5006fdf",
   "metadata": {},
   "outputs": [],
   "source": []
  }
 ],
 "metadata": {
  "kernelspec": {
   "display_name": "Python 3",
   "language": "python",
   "name": "python3"
  },
  "language_info": {
   "codemirror_mode": {
    "name": "ipython",
    "version": 3
   },
   "file_extension": ".py",
   "mimetype": "text/x-python",
   "name": "python",
   "nbconvert_exporter": "python",
   "pygments_lexer": "ipython3",
   "version": "3.9.4"
  }
 },
 "nbformat": 4,
 "nbformat_minor": 5
}