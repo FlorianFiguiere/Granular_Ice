{
 "cells": [
  {
   "cell_type": "markdown",
   "id": "d603eb63",
   "metadata": {},
   "source": [
    "# Demonstration\n",
    "\n",
    "We will demonstrate below the formula used to calcule the area of our sample.\n",
    "During this demonstration, we will consider the following circle and areas : \n",
    "\n",
    "- $A_{c}$ The area of the circle (radius [OA]).\n",
    "- $A_{t}$ The area of the isosceles triangles within the circle (OAB).\n",
    "- $A_{s}$ The area of the circular sector alpha.\n",
    "- $A_{1}$ The area of the segment circle (center O define by the chord [AB]).\n",
    "- $A_{f}$ The area wanted.\n",
    "\n",
    "INSERER IMAGE DU CERCLE AVEC LEGENDE"
   ]
  },
  {
   "cell_type": "code",
   "execution_count": null,
   "id": "495e2947",
   "metadata": {},
   "outputs": [],
   "source": []
  },
  {
   "cell_type": "markdown",
   "id": "2975339d",
   "metadata": {},
   "source": [
    "## Trivial area\n",
    "\n",
    "We will admite the following formula because there are pretty simple and wellknown equation/simple math.\n",
    "\n",
    "$$ A_{c}= \\pi* r² $$\n",
    "$$ A_{t}= \\frac{[AB]*[OH]}{2}$$\n",
    "$$ A_{1}=A_{s}-A_{t}$$\n",
    "$$ A_{f}=A_{c}-A_{1}$$"
   ]
  },
  {
   "cell_type": "markdown",
   "id": "db8a186e",
   "metadata": {},
   "source": [
    "## Area of the circular sector alpha\n",
    "\n",
    "TO DO"
   ]
  },
  {
   "cell_type": "markdown",
   "id": "8882c2fe",
   "metadata": {},
   "source": [
    "## Final Area\n",
    "\n",
    "With a bit of trigonometry, we can easily get the following equations :\n",
    "$$ \\frac{[OH]}{[OA]}=cos(\\frac{\\alpha}{2}) $$\n",
    "$$ \\frac{[AB]}{[OA]}=sin(\\frac{\\alpha}{2}) $$\n",
    "So we have, with $[OH]= r$ : \n",
    "$$A_{t} = r^{2}sin(\\frac{\\alpha}{2})cos(\\frac{\\alpha}{2})$$\n",
    "However, according to the following trigonometric equation, we have :\n",
    "$$ sin(a)cos(b)= \\frac{1}{2}[sin(a+b)+sin(a-b)]$$\n",
    "Thus, with $a=b=\\frac{\\alpha}{2}$ :\n",
    "$$A_{t} = \\frac{r^{2}}{2}sin(\\alpha)$$\n",
    "\n",
    "\n"
   ]
  },
  {
   "cell_type": "markdown",
   "id": "3bac789b",
   "metadata": {},
   "source": [
    "We can deduce :\n",
    "$$A_{1}=\\frac{A_{c}\\alpha}{2\\pi} - \\frac{r^{2}}{2}sin(\\alpha)$$\n",
    "Than :\n",
    "$$A_{f}=A_{c}(1-\\frac{\\alpha}{2\\pi}) + \\frac{r^{2}}{2}sin(\\alpha)$$"
   ]
  },
  {
   "cell_type": "markdown",
   "id": "c855b83d",
   "metadata": {},
   "source": [
    "Left to to : \n",
    "Démontrer $A_{s}$\n",
    "\n",
    "sources : https://calculis.net/aire/segment-disque"
   ]
  },
  {
   "cell_type": "code",
   "execution_count": null,
   "id": "dd0507f0",
   "metadata": {},
   "outputs": [],
   "source": []
  }
 ],
 "metadata": {
  "kernelspec": {
   "display_name": "Python 3",
   "language": "python",
   "name": "python3"
  },
  "language_info": {
   "codemirror_mode": {
    "name": "ipython",
    "version": 3
   },
   "file_extension": ".py",
   "mimetype": "text/x-python",
   "name": "python",
   "nbconvert_exporter": "python",
   "pygments_lexer": "ipython3",
   "version": "3.8.8"
  }
 },
 "nbformat": 4,
 "nbformat_minor": 5
}
