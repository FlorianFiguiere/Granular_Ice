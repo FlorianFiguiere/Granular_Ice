{
 "cells": [
  {
   "cell_type": "markdown",
   "id": "4ef64e5f-0bb2-43c3-abc1-43f272085a7c",
   "metadata": {},
   "source": [
    "# Machining of the sample and creep experiment\n",
    "In this part I will present the different step to follow before obtaining the correct geometry for the sample before starting the creep experiment\n",
    "\n",
    "\n",
    "## Machingin of the sample\n",
    "Parler du transport de salle en salle (pour échantillon et lame mince ==> parler effet sublimation ?)\n",
    "The sample height should not exceed 100 mm.\n",
    "Découpe au préalable pour sélectionner les parties intéressantes de l'échantillon (possible de faire deux échantillons à partir d'un si la glace granulaire est suffisament grande et de bonne qualité).\n",
    "\n",
    "### Machine qui tourne (très très vite)\n",
    "\n",
    "fixation de l'échantillon (esayer de le centrer)\n",
    "utilisation de pipette (à sortir pour éviter la formation de gel) => mise à température au préalable\n",
    "fixation des \"gongs\" de limites\n",
    "pas bouger l'échantillon avant d'avoir fini.\n",
    "\n",
    "### Fraiseuse (à traduire)\n",
    "\n",
    "parallelisme & planéitude des deux bases du cylindre\n",
    "parler du sens à prioriser lors de l'usinage (afin d'éviter de bouger l'échantillon avec la fraise)\n",
    "\n",
    "## Creep experiment\n",
    "\n"
   ]
  }
 ],
 "metadata": {
  "kernelspec": {
   "display_name": "Python 3",
   "language": "python",
   "name": "python3"
  },
  "language_info": {
   "codemirror_mode": {
    "name": "ipython",
    "version": 3
   },
   "file_extension": ".py",
   "mimetype": "text/x-python",
   "name": "python",
   "nbconvert_exporter": "python",
   "pygments_lexer": "ipython3",
   "version": "3.8.8"
  }
 },
 "nbformat": 4,
 "nbformat_minor": 5
}
