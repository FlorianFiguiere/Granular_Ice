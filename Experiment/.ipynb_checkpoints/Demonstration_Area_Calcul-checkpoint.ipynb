{
 "cells": [
  {
   "cell_type": "markdown",
   "id": "a4411917",
   "metadata": {},
   "source": [
    "# Demonstration\n",
    "\n",
    "We will demonstrate below the formula used to calcule the area of our sample.\n",
    "During this demonstration, we will consider the following circle and areas : \n",
    "\n",
    "- $A_{c}$ The area of the circle (radius [OA]).\n",
    "- $A_{t}$ The area of the isosceles triangles within the circle (OAB).\n",
    "- $A_{s}$ The area of the circular sector alpha.\n",
    "- $A_{1}$ The area of the segment circle (center O define by the chord [AB]).\n",
    "- $A_{f}$ The area wanted.\n",
    "\n",
    "INSERER IMAGE DU CERCLE AVEC LEGENDE"
   ]
  },
  {
   "cell_type": "markdown",
   "id": "e7ff75bd",
   "metadata": {},
   "source": [
    "## Trivial area\n",
    "\n",
    "We will admite the following formula because there are pretty simple and wellknown equation/simple math.\n",
    "\n",
    "$$ A_{c}= \\pi r^{2} $$\n",
    "$$ A_{t}= \\frac{[AB][OH]}{2}$$\n",
    "$$ A_{1}=A_{s}-A_{t}$$\n",
    "$$ A_{f}=A_{c}-A_{1}$$"
   ]
  },
  {
   "cell_type": "markdown",
   "id": "9d78410a",
   "metadata": {},
   "source": [
    "## Area of the circular sector alpha\n",
    "\n",
    "We consider the equation of a circle : $x^{2} + y^{2} = r^{2}$ but also\n",
    "$$\n",
    "\\left\\{\n",
    "    \\begin{array}{ll}\n",
    "        x=rcos(\\theta) \\\\\n",
    "        y=rsin(\\theta)\n",
    "    \\end{array}\n",
    "\\right.\n",
    "$$\n",
    "$$\n",
    "\\left\\{\n",
    "    \\begin{array}{ll}\n",
    "        \\frac{dx}{d\\theta}=-rsin(\\theta) \\\\\n",
    "        \\frac{dy}{d\\theta}=rcos(\\theta)\n",
    "    \\end{array}\n",
    "\\right.\n",
    "$$"
   ]
  },
  {
   "cell_type": "markdown",
   "id": "350dba90-1316-4977-b10a-cae900895226",
   "metadata": {},
   "source": [
    "If we take a look at a triangle with $\\frac{dx}{d\\theta}$, $\\frac{dy}{d\\theta}$ and $\\frac{dl}{d\\theta}$ as lenght, we can write that :\n",
    "$$\n",
    "dl=\\sqrt{\\frac{dx}{d\\theta}^{2}+\\frac{dy}{d\\theta}^{2}}d\\theta\n",
    "$$\n",
    "So we have \n",
    "$$\n",
    "dl=\\sqrt{r^{2}sin(\\theta)^{2}+r^{2}cos(\\theta)^{2}}d\\theta \\\\\n",
    "dl=rd\\theta \n",
    "$$\n",
    "Thus\n",
    "$$\n",
    "l=\\int_0^\\alpha rd\\theta = r\\alpha\n",
    "$$\n",
    "And\n",
    "$$\n",
    "A_{s}=\\int_0^r ldr=\\frac{r^{2}\\alpha}{2}\n",
    "$$"
   ]
  },
  {
   "cell_type": "markdown",
   "id": "6e4061aa",
   "metadata": {},
   "source": [
    "## Final Area\n",
    "\n",
    "With a bit of trigonometry, we can easily get the following equations :\n",
    "$$ \\frac{[OH]}{[OA]}=cos(\\frac{\\alpha}{2}) $$\n",
    "$$ \\frac{[AB]}{[OA]}=sin(\\frac{\\alpha}{2}) $$\n",
    "So we have, with $[OH]= r$ : \n",
    "$$A_{t} = r^{2}sin(\\frac{\\alpha}{2})cos(\\frac{\\alpha}{2})$$\n",
    "However, according to the following trigonometric equation, we have :\n",
    "$$ sin(a)cos(b)= \\frac{1}{2}[sin(a+b)+sin(a-b)]$$\n",
    "Thus, with $a=b=\\frac{\\alpha}{2}$ :\n",
    "$$A_{t} = \\frac{r^{2}}{2}sin(\\alpha)$$\n",
    "\n",
    "\n"
   ]
  },
  {
   "cell_type": "markdown",
   "id": "975aaf50",
   "metadata": {},
   "source": [
    "We can deduce :\n",
    "$$A_{1}=\\frac{A_{c}\\alpha}{2\\pi} - \\frac{r^{2}}{2}sin(\\alpha)$$\n",
    "Than :\n",
    "$$A_{f}=A_{c}(1-\\frac{\\alpha}{2\\pi}) + \\frac{r^{2}}{2}sin(\\alpha)$$"
   ]
  },
  {
   "cell_type": "markdown",
   "id": "64e21a00",
   "metadata": {},
   "source": [
    "Left to to : \n",
    "\n",
    "Add ref number in equation\n",
    "\n",
    "sources : https://calculis.net/aire/segment-disque\n",
    "https://fr.wikipedia.org/wiki/Longueur_d%27un_arc\n"
   ]
  }
 ],
 "metadata": {
  "kernelspec": {
   "display_name": "Python 3",
   "language": "python",
   "name": "python3"
  },
  "language_info": {
   "codemirror_mode": {
    "name": "ipython",
    "version": 3
   },
   "file_extension": ".py",
   "mimetype": "text/x-python",
   "name": "python",
   "nbconvert_exporter": "python",
   "pygments_lexer": "ipython3",
   "version": "3.8.8"
  }
 },
 "nbformat": 4,
 "nbformat_minor": 5
}
