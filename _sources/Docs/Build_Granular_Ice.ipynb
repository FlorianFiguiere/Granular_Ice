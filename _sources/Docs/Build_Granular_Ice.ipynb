{
 "cells": [
  {
   "cell_type": "markdown",
   "id": "96db8f04",
   "metadata": {},
   "source": [
    "# Building Granular Ice\n",
    "\n",
    "## Introduction\n",
    "\n",
    "In order to do the experiments, we have to prepare good samples which fit the wanted characteristic (granular ice). No need to make some sampling on natural ice (in moutain or elsewhere) because we can create this ice from chemist water (clean water). Be aware that a few days are required getting the wanted ice so proceed with patience and precision in order to avoid loosing time.\n",
    "\n",
    "## Cold environment : important rules and informations to know and follow\n",
    "\n",
    "This part can be boring and look like useless but cold environment are very different than classic laboratory room. For your safety and the quality of the experiment, please take note of the following points.\n",
    "\n",
    "- Before starting any session in cold chamber, clothes must be adapted to the session's lenght and other people must be aware of your session. Head and foot are the most important part to keep warm so boots, hat (one or two) and a fleece suit (or similar) is strongly recommended. Of courses, gloves are mendatory for your own safety.\n",
    "- Due to the low temperature encountered in chamber (from 0°C to -15°C), it is recommended to take breakes when you feel the need to warm yourself up. Precipitation can make you loose days of work so be patient.\n",
    "- Every tools and consommables used in experiments or preparations must be cooled at the chamber temperature before using them. Otherwise, this could melt the snow/ice sample.\n",
    "- Wearing a mask is recommended because human breathe can melt/damage the snow/ice sample.\n",
    "- Before storing any sample, they must be sealed. Otherwise sublimation of ice can damaged the sample. This applied for long term storage as for short one (like a night).\n",
    "- Use isolated container to move sample from a chamber to another. This applied specially to thin film which can be heavly damaged by room temperature.\n",
    "- In the following, when we talk about room temperature, we mean 20-25 °C. Do not confuse room and chamber temperature (which varied depending on the step).\n",
    "\n",
    "##  Preparation of the water\n",
    "At room temperature.\n",
    "- Fill up a balloon with chemist water (clean water).\n",
    "- Boil it during 45 minutes approximately.\n",
    "- Cap the bottle.\n",
    "- Let it cool down at room temperature than put it at 0°C in a chamber (at least one night so the water is at the chamber temperature).\n",
    "\n",
    "## Preparation of the snow\n",
    "\n",
    "- Fill up a box at two third with clean water.\n",
    "- Let it freeze in a chamber at low temperature (for example -15°C) until there is no water left in the box.\n",
    "- Move the box at room temperature, reverse it above a sink and wait for the ice block to fall. Once it drops, move it back in the chamber.\n",
    "- Cut small pieces of ice and crush them into snow. Use a 2 mm sieve to keep only grain bellow 2mm radius.\n",
    "- Fill up a crystallizer up to 4/5. (Slam gently the column with the \"carpet\" in order to pack the snow and reduce as possible the air)\n",
    "- Fold a tissue and put it inside de crystallizer above the snow. Make sure the tissue blocks most of the snow. \n",
    "\n",
    "## Creation of the granular ice\n",
    "\n",
    "- Move the crystallizer to a chamber at 0°C, put some silicone grease between the crystallizer and his cover. The grease should be applied in a continuous line. Put the cover at the top of the crystallizer.\n",
    "- Connect it to the ballon which contain the water prepared above and a vacuum pump. If possible, connect the balloon at the center of the cover: the distribution of water will be more homogeneous. \n",
    "- Start the pump and let it work during approximately 1 h in order to make the void.\n",
    "- Pinch off the tube and stop the pump.\n",
    "- Reverse the balloon of water and wait for the water to drop in the crystallizer. (The tissue will allow a more homogeneous distribution of water inside the crystallizer).\n",
    "- A line should appeared at the bottom of the crystallizer. When it reach near the edge of the snow at the top, reverse again the balloon.\n",
    "- Allow some air to go in the crystallizer by releasing for a brief instant the pinch. This will pack the snow again, moving the air trapped inside the snow outside.\n",
    "- Use a peltier device at -15°C to create a growth from bottom to top. Put some thermal insulator around the crystallizer. (Control the peltier device's temperature with a thermometer)\n",
    "- When there is no water left in the crystallizer, unmould it like the ice. This should take around 45min-50min. Watch out for any unwanted shock which can brittle the sample. Also don't wait too much : The sample must stay the less possible at room temperature.\n",
    "- Seal it and store it at -5°C for recrystallisation. The seal will stop the sample to be damaged by the sublimation of ice.\n",
    "- Don't forget to put outside of the chamber any part that could work no more with ice formed inside such as the tube between the balloon and the crystallizer.\n",
    "\n",
    "Now, we have a sample of granular ice. But we need to machine it : Reduce the radius, the heigh and correct the parallelism of each base of the sample. We will cut a bit of the sample in order to create a thin film but also a surface on the sample which will receive the mouchti required for Digital Image Correlation (DIC)."
   ]
  },
  {
   "cell_type": "code",
   "execution_count": null,
   "id": "59d276fd-1aff-45ef-887a-7463f3e525ed",
   "metadata": {},
   "outputs": [],
   "source": []
  },
  {
   "cell_type": "code",
   "execution_count": null,
   "id": "3a55406e-a611-4daa-93ec-462ec61bb703",
   "metadata": {},
   "outputs": [],
   "source": []
  },
  {
   "cell_type": "code",
   "execution_count": null,
   "id": "230fca00-778f-40c4-9957-9916ddb054de",
   "metadata": {},
   "outputs": [],
   "source": []
  },
  {
   "cell_type": "code",
   "execution_count": null,
   "id": "bbae03b6-c679-4097-918d-553cd8bbd078",
   "metadata": {},
   "outputs": [],
   "source": []
  },
  {
   "cell_type": "code",
   "execution_count": null,
   "id": "da98dce6",
   "metadata": {},
   "outputs": [],
   "source": []
  }
 ],
 "metadata": {
  "kernelspec": {
   "display_name": "Python 3",
   "language": "python",
   "name": "python3"
  },
  "language_info": {
   "codemirror_mode": {
    "name": "ipython",
    "version": 3
   },
   "file_extension": ".py",
   "mimetype": "text/x-python",
   "name": "python",
   "nbconvert_exporter": "python",
   "pygments_lexer": "ipython3",
   "version": "3.9.4"
  }
 },
 "nbformat": 4,
 "nbformat_minor": 5
}
