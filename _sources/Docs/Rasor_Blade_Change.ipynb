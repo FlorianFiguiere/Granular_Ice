{
 "cells": [
  {
   "cell_type": "markdown",
   "id": "d62e6803-d42f-42dc-9393-5b2cef292aa6",
   "metadata": {},
   "source": [
    "# How to change the rasor blade from the XXX (name TBD)\n",
    "\n",
    "- Turn the lever which maintain the support of the blade and pull it out.\n",
    "- Unscrew the screws which hold the rasor blade and put it with the used blade.\n",
    "- Get a new one and check if the blade as any default. If not, proceed the following steps with precaution to avoid any shock.\n",
    "- Place the rasor blade on the rail and slide it carefuly within the hole until the edge of the blade meets the red line on the support.\n",
    "- Screw in the screws unscrewed so the blade cannot move anymore.\n",
    "- Replace the support in the XXX (name TBD) and fixe it so the support fit the square angle at the back (see figure)\n",
    "\n",
    "Now that the rasor blade is fixed, you can return to [reducing the thickness of the thin film](Thin_Ice_Film_Making.ipynb)."
   ]
  }
 ],
 "metadata": {
  "kernelspec": {
   "display_name": "Python 3",
   "language": "python",
   "name": "python3"
  },
  "language_info": {
   "codemirror_mode": {
    "name": "ipython",
    "version": 3
   },
   "file_extension": ".py",
   "mimetype": "text/x-python",
   "name": "python",
   "nbconvert_exporter": "python",
   "pygments_lexer": "ipython3",
   "version": "3.9.4"
  }
 },
 "nbformat": 4,
 "nbformat_minor": 5
}
