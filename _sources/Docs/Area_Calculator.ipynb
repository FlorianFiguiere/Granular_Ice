{
 "cells": [
  {
   "cell_type": "markdown",
   "id": "9d3e8185",
   "metadata": {},
   "source": [
    "# Area sample\n",
    "\n",
    "We cut off a piece of the sample so we need to calculate the area left for our sample in order to calculate the theoretical weight needed to do a creep test with $\\sigma$ = 0,8 MPa."
   ]
  },
  {
   "cell_type": "code",
   "execution_count": 1,
   "id": "9d6edfa3-0a62-4b4d-94a3-1dae9c099dc7",
   "metadata": {},
   "outputs": [],
   "source": [
    "from Various_Functions import calcArea "
   ]
  },
  {
   "cell_type": "markdown",
   "id": "fc4b45f9-240c-47ad-aef2-ec2b0779225f",
   "metadata": {},
   "source": [
    "Give the value Dlarge (and Dsmall if required) in millimeter (see figure below) :"
   ]
  },
  {
   "cell_type": "code",
   "execution_count": 2,
   "id": "efe9909b-86d6-40e1-9272-a6171a3787f2",
   "metadata": {},
   "outputs": [],
   "source": [
    "Dlarge=52.2 # millimeter\n",
    "Dsmall=42.0 # millimeter"
   ]
  },
  {
   "cell_type": "markdown",
   "id": "1774c904-973d-4921-a0a8-c3e27819982e",
   "metadata": {},
   "source": [
    "<img src=\"../Docs/circle_Dlarge_Dsmall.png\" alt=\"circle_diameters\" class=\"bg-primary mb-1\" width=\"400px\">"
   ]
  },
  {
   "cell_type": "code",
   "execution_count": 3,
   "id": "9f8f9226-ed38-431a-8220-c25f0b76b1aa",
   "metadata": {
    "tags": []
   },
   "outputs": [
    {
     "name": "stdout",
     "output_type": "stream",
     "text": [
      "Help on function calcArea in module Various_Functions:\n",
      "\n",
      "calcArea(Dlarge, Dsmall, stress=0.8)\n",
      "    This function compute the surface and the mass to applied on the sample for the experiment\n",
      "    :param Dlarge: circle diameter (unit millimeter) (see schematic)\n",
      "    :type Dlarge: float\n",
      "    :param Dsmall: smaller larger (unit millimeter) (see schematic)\n",
      "    :type Dsmall: float\n",
      "    :param stress: stress applied on the sample (in MPa)\n",
      "    :type stress: float\n",
      "\n"
     ]
    }
   ],
   "source": [
    "help(calcArea)"
   ]
  },
  {
   "cell_type": "code",
   "execution_count": 4,
   "id": "7be9475c-3d40-4d75-8af7-835c42a2908f",
   "metadata": {},
   "outputs": [],
   "source": [
    "Af,Mth=calcArea(Dlarge,Dsmall)"
   ]
  },
  {
   "cell_type": "code",
   "execution_count": 5,
   "id": "d2ad9a5e",
   "metadata": {},
   "outputs": [
    {
     "name": "stdout",
     "output_type": "stream",
     "text": [
      "Area of the sample = 1845.36 mm²\n",
      "Theoretical weight= 10385.1 g or 10.385 kg\n"
     ]
    }
   ],
   "source": [
    "print(\"Area of the sample = {:.2f} mm²\".format(Af))\n",
    "print(\"Theoretical weight= {:.1f} g or {:.3f} kg\".format(Mth,Mth*0.001))"
   ]
  },
  {
   "cell_type": "markdown",
   "id": "8086d52a-6b89-46b9-aca8-6fd5b03dd462",
   "metadata": {},
   "source": [
    "If needed, there is [the demonstration of the calcul](Demonstration_Area_Calcul.ipynb) made above."
   ]
  }
 ],
 "metadata": {
  "kernelspec": {
   "display_name": "Python 3",
   "language": "python",
   "name": "python3"
  },
  "language_info": {
   "codemirror_mode": {
    "name": "ipython",
    "version": 3
   },
   "file_extension": ".py",
   "mimetype": "text/x-python",
   "name": "python",
   "nbconvert_exporter": "python",
   "pygments_lexer": "ipython3",
   "version": "3.8.8"
  }
 },
 "nbformat": 4,
 "nbformat_minor": 5
}
