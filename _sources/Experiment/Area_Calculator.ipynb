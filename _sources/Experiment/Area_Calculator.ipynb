{
 "cells": [
  {
   "cell_type": "markdown",
   "id": "9d3e8185",
   "metadata": {},
   "source": [
    "# Area sample\n",
    "\n",
    "We cut off a piece of the sample so we need to calculate the area left for our sample in order to calculate the theoretical weight needed to do a creep test with $\\sigma$ = 0,8 MPa."
   ]
  },
  {
   "cell_type": "code",
   "execution_count": 9,
   "id": "9d6edfa3-0a62-4b4d-94a3-1dae9c099dc7",
   "metadata": {},
   "outputs": [],
   "source": [
    "import cmath"
   ]
  },
  {
   "cell_type": "markdown",
   "id": "fc4b45f9-240c-47ad-aef2-ec2b0779225f",
   "metadata": {},
   "source": [
    "Give the value XXX in millimeter :"
   ]
  },
  {
   "cell_type": "code",
   "execution_count": 10,
   "id": "efe9909b-86d6-40e1-9272-a6171a3787f2",
   "metadata": {},
   "outputs": [],
   "source": [
    "Dlarge=52.2 # milliter"
   ]
  },
  {
   "cell_type": "code",
   "execution_count": 11,
   "id": "a031f33a",
   "metadata": {},
   "outputs": [],
   "source": [
    "Dsmall=42.0\n",
    "mstress=0.8"
   ]
  },
  {
   "cell_type": "code",
   "execution_count": 25,
   "id": "967b4b88",
   "metadata": {},
   "outputs": [],
   "source": [
    "def calc_tronc_disk(Dlarge,Dsmall=Dlarge,stress=0.8):\n",
    "    '''\n",
    "    This function compute the surface and the mass to applied on the sample for the experiment\n",
    "    :param Dlarge: largeur (unit millimeter)\n",
    "    :type Dlarge: float\n",
    "    '''\n",
    "\n",
    "    r=Dlarge/2 #larger radius of the circle.\n",
    "    h=Dsmall-r #smaller radius of the sample.\n",
    "    f=Dlarge-Dsmall #deflection\n",
    "    alpha=2*cmath.acos(h/r).real\n",
    "    g=9.80665 #m.s^-2\n",
    "\n",
    "    #print(alpha*360/(2*cmath.pi))\n",
    "    #Determination of the area of the bot/top surface of the sample. (in mm²)\n",
    "    Ac=cmath.pi*pow(r,2) #Area of a circle\n",
    "    As=Ac*alpha/(2*cmath.pi) #Area of the circular sector alpha\n",
    "    At=1/2*pow(r,2)*cmath.sin(alpha).real #Area of the isosceles triangle in the circle\n",
    "    A1=As-At #Area of the segment circle\n",
    "\n",
    "    Af=Ac-A1#Final area wanted\n",
    "\n",
    "    Mth=(stress*Af-22.38)/(0.14)\n",
    "    M2=(stress*Af-19.42)/(0.14)\n",
    "\n",
    "    #print(\"Ac=\",Ac, \"As=\",As,\"At=\",At,\"A1=\",A1)\n",
    "    return Af,Mth"
   ]
  },
  {
   "cell_type": "code",
   "execution_count": 26,
   "id": "9f8f9226-ed38-431a-8220-c25f0b76b1aa",
   "metadata": {},
   "outputs": [
    {
     "name": "stdout",
     "output_type": "stream",
     "text": [
      "Help on function calcArea in module __main__:\n",
      "\n",
      "calcArea(Dlarge, Dsmall, stress)\n",
      "    This function compute the surface and the mass to applied on the sample for the experiment\n",
      "    :param Dlarge: largeur (unit millimeter)\n",
      "    :type Dlarge: float\n",
      "\n"
     ]
    }
   ],
   "source": [
    "help(calcArea)"
   ]
  },
  {
   "cell_type": "code",
   "execution_count": 27,
   "id": "7be9475c-3d40-4d75-8af7-835c42a2908f",
   "metadata": {},
   "outputs": [],
   "source": [
    "Af,Mth=calc_tronc_disk(Dlarge,stress=0.5)"
   ]
  },
  {
   "cell_type": "code",
   "execution_count": 28,
   "id": "d2ad9a5e",
   "metadata": {},
   "outputs": [
    {
     "name": "stdout",
     "output_type": "stream",
     "text": [
      "Area of the sample = 2140.08 mm²\n",
      "Theoretical weight= 7483.3 g or 7.483 kg\n"
     ]
    }
   ],
   "source": [
    "print(\"Area of the sample = {:.2f} mm²\".format(Af))\n",
    "print(\"Theoretical weight= {:.1f} g or {:.3f} kg\".format(Mth,Mth*0.001))"
   ]
  },
  {
   "cell_type": "code",
   "execution_count": null,
   "id": "a1dd1a86",
   "metadata": {},
   "outputs": [],
   "source": []
  }
 ],
 "metadata": {
  "kernelspec": {
   "display_name": "Python 3",
   "language": "python",
   "name": "python3"
  },
  "language_info": {
   "codemirror_mode": {
    "name": "ipython",
    "version": 3
   },
   "file_extension": ".py",
   "mimetype": "text/x-python",
   "name": "python",
   "nbconvert_exporter": "python",
   "pygments_lexer": "ipython3",
   "version": "3.8.8"
  }
 },
 "nbformat": 4,
 "nbformat_minor": 5
}
