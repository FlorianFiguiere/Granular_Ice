{
 "cells": [
  {
   "cell_type": "markdown",
   "id": "b9b75e48-3f41-4d2f-bebe-e6bbb6fa59d6",
   "metadata": {},
   "source": [
    "Protocol and experiment linked to ice mechanics\n",
    "=======================\n",
    "\n",
    "This Jupyter Book will talk about protocols and experiment used at IGE. The aim is to list protocols and experiment in one place, making easier researches and documentations about ice mechanics. There is below a table of content :\n",
    "\n",
    "- [Building Granular Ice](Docs/Build_granular_ice.ipynb) : Protocol on how to build granular ice from clean water.\n",
    "- [What's the area of my sample ?](Docs/Area_Calculator.ipynb) : Function who determine the area of the sample with two measure.\n",
    "- [Machining of the sample for creep experiment](Docs/Creep_Experiment.ipynb) : Protocol on how to machining a sample for a creep experiment\n"
   ]
  }
 ],
 "metadata": {
  "kernelspec": {
   "display_name": "Python 3",
   "language": "python",
   "name": "python3"
  },
  "language_info": {
   "codemirror_mode": {
    "name": "ipython",
    "version": 3
   },
   "file_extension": ".py",
   "mimetype": "text/x-python",
   "name": "python",
   "nbconvert_exporter": "python",
   "pygments_lexer": "ipython3",
   "version": "3.8.8"
  }
 },
 "nbformat": 4,
 "nbformat_minor": 5
}
