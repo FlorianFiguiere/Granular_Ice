{
 "cells": [
  {
   "cell_type": "markdown",
   "id": "d40e4a54-f844-4e5c-96ab-74a79ee99dfb",
   "metadata": {},
   "source": [
    "Index\n",
    "=======================\n",
    "\n",
    "This Jupyter Book will talk about protocols and experiment used at IGE. The aim is to list protocols and experiment in one place, making easier researches and documentations about ice mechanics. There is below a table of content :\n",
    "\n",
    "/!\\ Make sure to read once [Warnings and advices when experimenting in cold chamber](Docs/Warning_Cold_Env.ipynb) before attempting at any of the following protocol (for the quality of the result and your security).\n",
    "\n",
    "## Protocols\n",
    "- [Building Columnar Ice](Docs/Build_Columnar_Ice.ipynb) : Protocol on how to build columnar ice from clean water.\n",
    "- [Building Granular Ice](Docs/Build_Granular_Ice.ipynb) : Protocol on how to build granular ice from columnar ice.\n",
    "- [Create a thin ice film](Docs/Thin_Ice_Film_Making.ipynb) : How to make a thin ice film from a sample of ice.\n",
    "- [How to use AITA](Docs/Thin_Ice_Film_AITA.ipynb) : How to analysis thin ice film using AITA.\n",
    "- [Machining for cylindrical sample](Docs/Creep_Experiment.ipynb) : Protocol on how to machining samples\n",
    "\n",
    "## Experiments\n",
    "- [Creep experiment](Docs/Creep_Experiment.ipynb) : Creep experiment on granular ice."
   ]
  },
  {
   "cell_type": "code",
   "execution_count": null,
   "id": "47e0c82a-e7f3-408e-8c04-c1cf270395bc",
   "metadata": {},
   "outputs": [],
   "source": []
  },
  {
   "cell_type": "code",
   "execution_count": null,
   "id": "acb7ce29-681b-4832-8919-a404b6df1bbc",
   "metadata": {},
   "outputs": [],
   "source": []
  }
 ],
 "metadata": {
  "kernelspec": {
   "display_name": "Python 3",
   "language": "python",
   "name": "python3"
  },
  "language_info": {
   "codemirror_mode": {
    "name": "ipython",
    "version": 3
   },
   "file_extension": ".py",
   "mimetype": "text/x-python",
   "name": "python",
   "nbconvert_exporter": "python",
   "pygments_lexer": "ipython3",
   "version": "3.9.4"
  }
 },
 "nbformat": 4,
 "nbformat_minor": 5
}
