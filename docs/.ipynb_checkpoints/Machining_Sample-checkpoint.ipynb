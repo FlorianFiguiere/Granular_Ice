{
 "cells": [
  {
   "cell_type": "markdown",
   "id": "4ef64e5f-0bb2-43c3-abc1-43f272085a7c",
   "metadata": {},
   "source": [
    "# Machining of the sample\n",
    "In this part I will present the different step to follow before obtaining the correct geometry for the sample before starting the creep experiment. The aim is to achieve the creation of a sample without default so the stress applied will be homogeneous."
   ]
  },
  {
   "cell_type": "code",
   "execution_count": null,
   "id": "3906618a-da3f-4d54-b39a-5696c5379fc9",
   "metadata": {},
   "outputs": [],
   "source": []
  },
  {
   "cell_type": "markdown",
   "id": "4880e12a-ae4e-46f7-8175-cdaf5fde789e",
   "metadata": {},
   "source": [
    "## Machining of the sample\n",
    "\n",
    "If your sample is long enought and without default, it is possible to split it in two part smaller than 100 mm. Otherwise, reduce his lenght until it doesn't exceed 100 mm. The remaining sample should not contain bubbles or other default that can influence the movement or migration of disclocation during the creep experiment. \n",
    "\n",
    "### Machine qui tourne (très très vite)\n",
    "\n",
    "fixation de l'échantillon (esayer de le centrer)\n",
    "utilisation de pipette (à sortir pour éviter la formation de gel) => mise à température au préalable\n",
    "fixation des \"gongs\" de limites\n",
    "pas bouger l'échantillon avant d'avoir fini.\n",
    "\n",
    "\n",
    "\n",
    "\n",
    "### Fraiseuse (à traduire)\n",
    "\n",
    "parallelisme & planéitude des deux bases du cylindre\n",
    "parler du sens à prioriser lors de l'usinage (afin d'éviter de bouger l'échantillon avec la fraise)\n",
    "\n",
    "\n"
   ]
  },
  {
   "cell_type": "markdown",
   "id": "b9dcebd2-5d8b-4535-b909-2f0815077285",
   "metadata": {},
   "source": []
  }
 ],
 "metadata": {
  "kernelspec": {
   "display_name": "Python 3",
   "language": "python",
   "name": "python3"
  },
  "language_info": {
   "codemirror_mode": {
    "name": "ipython",
    "version": 3
   },
   "file_extension": ".py",
   "mimetype": "text/x-python",
   "name": "python",
   "nbconvert_exporter": "python",
   "pygments_lexer": "ipython3",
   "version": "3.9.4"
  }
 },
 "nbformat": 4,
 "nbformat_minor": 5
}
