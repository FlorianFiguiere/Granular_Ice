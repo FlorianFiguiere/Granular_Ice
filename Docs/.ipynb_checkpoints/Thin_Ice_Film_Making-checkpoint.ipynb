{
 "cells": [
  {
   "cell_type": "markdown",
   "id": "a026bab8-f723-46fb-b99e-6589668c0c4f",
   "metadata": {
    "tags": []
   },
   "source": [
    "# Making of a thin film of granular ice\n",
    "\n",
    "The making of a thin film before the creep experiment will allow us to spot recrystallization area and compare grains orientation before and after the experiment.\n",
    "## Extraction of a piece from the sample\n",
    "Concerning thin film of ice, they must be sealed if not used. Due to their geometry, sublimation is far from negligible. On top of that, the sample must be transported in a container thermally insulated. Also be cautious when machining or manipulating the thin film. His thickness make the thin film very brittle.\n",
    "- Prepare a few glass panel (normal and thick one). Wash them with alcohol and dry them then move them in a chamber at -15°C. Move aswell 2-3 pipette and some clean water on a bowl.\n",
    "- Using a band scie machine, cut a part from the sample with the following dimension : same lenght (around 9mm) and a thickness around 10mm. Those value are more of a guideline than anything else : we will reduce his thickness up to 3,5 mm.\n",
    "- Fix the (not yet) thin film on the thickest glass panel. Use a pipette and the clean water to create one drop of clean water at each side of the film. Wait after making one drop of water to avoid building stress. Drops of clean water will act as glue.\n",
    "\n",
    "## Reducing the thickness of the film\n",
    "\n",
    "### Create a flat surface.\n",
    "\n",
    "- Firstly, check if the rasor blade is still functionnal and without default. If needed, change it. You can check [this page](Rasor_Blade_Change.ipynb) if you need help on how to change the blade.\n",
    "- Start the vacuum pump and put the glass panel on top of the red circle (see figure)\n",
    "- Make sure that the glass panel won't move and won't hit borders when sliding the whole block on rail.\n",
    "- The lever figure XX allow you to unlock the height of the support. This height can be set with the other lever figure XX. \n",
    "- Once the height film is close to the rasor blade, you can start making slow back and forth movement with the support. With every loop, the height of the support will increment with the value set by the indicator in XX. On top of that, it's possible to improve manually and precisely the height of the support with the wheel in XX.\n",
    "- Continue the back and forth movement until the rasor blade cuts the entire area of the sample. At this point, the upper surface is (almost perfectly) flat.\n",
    "- Stop the vacuum pump and move horizontally the glass panel to break the void created bellow. Moving horizontally will avoid abrupt and uncontrolled movement which can break the ice film.\n",
    "\n",
    "### Flipping of the ice film.\n",
    "\n",
    "- Use a cutter to break the two bubble made before.\n",
    "- Place a thinner glasse panel close to the glass panel used and drag the ice film unto the new glass panel.\n",
    "- Flip the film carefuly.\n",
    "- Using a pipette, make a line of clean water between the glass panel and one of the side of the film.\n",
    "- Wait until the water freeze and repeat the previous step for each side. Waiting between each side will avoid creating stress within the thin film.\n",
    "- Finnaly, make a large bubble of water next to the film (close to the bottom). When the bubble is frozen, you can proceed to the next step.\n",
    "\n",
    "### Preparation of the other surface\n",
    "\n",
    "\n"
   ]
  },
  {
   "cell_type": "code",
   "execution_count": null,
   "id": "b57d4ecf-2520-4bd8-8903-70dc69b3cf2a",
   "metadata": {},
   "outputs": [],
   "source": []
  },
  {
   "cell_type": "code",
   "execution_count": null,
   "id": "ceef41e5-5e34-413e-97b1-9f9ae72aa5ab",
   "metadata": {},
   "outputs": [],
   "source": []
  }
 ],
 "metadata": {
  "kernelspec": {
   "display_name": "Python 3",
   "language": "python",
   "name": "python3"
  },
  "language_info": {
   "codemirror_mode": {
    "name": "ipython",
    "version": 3
   },
   "file_extension": ".py",
   "mimetype": "text/x-python",
   "name": "python",
   "nbconvert_exporter": "python",
   "pygments_lexer": "ipython3",
   "version": "3.9.4"
  }
 },
 "nbformat": 4,
 "nbformat_minor": 5
}
