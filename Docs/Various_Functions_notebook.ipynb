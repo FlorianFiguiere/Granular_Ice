{
 "cells": [
  {
   "cell_type": "code",
   "execution_count": 1,
   "id": "05e8e0dc-b3a8-4b51-9478-b402ddc1ca36",
   "metadata": {},
   "outputs": [
    {
     "ename": "NameError",
     "evalue": "name 'Dlarge' is not defined",
     "output_type": "error",
     "traceback": [
      "\u001b[0;31m---------------------------------------------------------------------------\u001b[0m",
      "\u001b[0;31mNameError\u001b[0m                                 Traceback (most recent call last)",
      "\u001b[0;32m<ipython-input-1-1c6a7dee0638>\u001b[0m in \u001b[0;36m<module>\u001b[0;34m\u001b[0m\n\u001b[0;32m----> 1\u001b[0;31m \u001b[0;32mdef\u001b[0m \u001b[0mcalc_tronc_disk\u001b[0m\u001b[0;34m(\u001b[0m\u001b[0mDlarge\u001b[0m\u001b[0;34m,\u001b[0m\u001b[0mDsmall\u001b[0m\u001b[0;34m=\u001b[0m\u001b[0mDlarge\u001b[0m\u001b[0;34m,\u001b[0m\u001b[0mstress\u001b[0m\u001b[0;34m=\u001b[0m\u001b[0;36m0.8\u001b[0m\u001b[0;34m)\u001b[0m\u001b[0;34m:\u001b[0m\u001b[0;34m\u001b[0m\u001b[0;34m\u001b[0m\u001b[0m\n\u001b[0m\u001b[1;32m      2\u001b[0m     '''\n\u001b[1;32m      3\u001b[0m     \u001b[0mThis\u001b[0m \u001b[0mfunction\u001b[0m \u001b[0mcompute\u001b[0m \u001b[0mthe\u001b[0m \u001b[0msurface\u001b[0m \u001b[0;32mand\u001b[0m \u001b[0mthe\u001b[0m \u001b[0mmass\u001b[0m \u001b[0mto\u001b[0m \u001b[0mapplied\u001b[0m \u001b[0mon\u001b[0m \u001b[0mthe\u001b[0m \u001b[0msample\u001b[0m \u001b[0;32mfor\u001b[0m \u001b[0mthe\u001b[0m \u001b[0mexperiment\u001b[0m\u001b[0;34m\u001b[0m\u001b[0;34m\u001b[0m\u001b[0m\n\u001b[1;32m      4\u001b[0m     \u001b[0;34m:\u001b[0m\u001b[0mparam\u001b[0m \u001b[0mDlarge\u001b[0m\u001b[0;34m:\u001b[0m \u001b[0mlargeur\u001b[0m \u001b[0;34m(\u001b[0m\u001b[0munit\u001b[0m \u001b[0mmillimeter\u001b[0m\u001b[0;34m)\u001b[0m\u001b[0;34m\u001b[0m\u001b[0;34m\u001b[0m\u001b[0m\n\u001b[1;32m      5\u001b[0m     \u001b[0;34m:\u001b[0m\u001b[0mtype\u001b[0m \u001b[0mDlarge\u001b[0m\u001b[0;34m:\u001b[0m \u001b[0mfloat\u001b[0m\u001b[0;34m\u001b[0m\u001b[0;34m\u001b[0m\u001b[0m\n",
      "\u001b[0;31mNameError\u001b[0m: name 'Dlarge' is not defined"
     ]
    }
   ],
   "source": [
    "def calcArea(Dlarge,Dsmall=Dlarge,stress=0.8):\n",
    "    '''\n",
    "    This function compute the surface and the mass to applied on the sample for the experiment\n",
    "    :param Dlarge: largeur (unit millimeter)\n",
    "    :type Dlarge: float\n",
    "    '''\n",
    "\n",
    "    r=Dlarge/2 #larger radius of the circle.\n",
    "    h=Dsmall-r #smaller radius of the sample.\n",
    "    f=Dlarge-Dsmall #deflection\n",
    "    alpha=2*cmath.acos(h/r).real\n",
    "    g=9.80665 #m.s^-2\n",
    "\n",
    "    #print(alpha*360/(2*cmath.pi))\n",
    "    #Determination of the area of the bot/top surface of the sample. (in mm²)\n",
    "    Ac=cmath.pi*pow(r,2) #Area of a circle\n",
    "    As=Ac*alpha/(2*cmath.pi) #Area of the circular sector alpha\n",
    "    At=1/2*pow(r,2)*cmath.sin(alpha).real #Area of the isosceles triangle in the circle\n",
    "    A1=As-At #Area of the segment circle\n",
    "\n",
    "    Af=Ac-A1#Final area wanted\n",
    "\n",
    "    Mth=(stress*Af-22.38)/(0.14)\n",
    "    M2=(stress*Af-19.42)/(0.14)\n",
    "\n",
    "    #print(\"Ac=\",Ac, \"As=\",As,\"At=\",At,\"A1=\",A1)\n",
    "    return Af,Mth"
   ]
  },
  {
   "cell_type": "code",
   "execution_count": null,
   "id": "bf821f06-cd27-4f05-80f9-03c28bf665cb",
   "metadata": {},
   "outputs": [],
   "source": []
  }
 ],
 "metadata": {
  "kernelspec": {
   "display_name": "Python 3",
   "language": "python",
   "name": "python3"
  },
  "language_info": {
   "codemirror_mode": {
    "name": "ipython",
    "version": 3
   },
   "file_extension": ".py",
   "mimetype": "text/x-python",
   "name": "python",
   "nbconvert_exporter": "python",
   "pygments_lexer": "ipython3",
   "version": "3.8.8"
  }
 },
 "nbformat": 4,
 "nbformat_minor": 5
}
