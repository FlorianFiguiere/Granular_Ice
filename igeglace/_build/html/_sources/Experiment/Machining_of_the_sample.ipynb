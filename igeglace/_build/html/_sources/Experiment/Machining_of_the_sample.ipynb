{
 "cells": [
  {
   "cell_type": "markdown",
   "id": "4ef64e5f-0bb2-43c3-abc1-43f272085a7c",
   "metadata": {},
   "source": [
    "# Machining of the Sample\n",
    "In this part I will present the different step to follow before obtaining the correct geometry for the sample."
   ]
  }
 ],
 "metadata": {
  "kernelspec": {
   "display_name": "Python 3",
   "language": "python",
   "name": "python3"
  },
  "language_info": {
   "codemirror_mode": {
    "name": "ipython",
    "version": 3
   },
   "file_extension": ".py",
   "mimetype": "text/x-python",
   "name": "python",
   "nbconvert_exporter": "python",
   "pygments_lexer": "ipython3",
   "version": "3.8.8"
  }
 },
 "nbformat": 4,
 "nbformat_minor": 5
}
