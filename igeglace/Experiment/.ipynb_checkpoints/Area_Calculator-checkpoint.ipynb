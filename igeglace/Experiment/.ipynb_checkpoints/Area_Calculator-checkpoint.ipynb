{
 "cells": [
  {
   "cell_type": "code",
   "execution_count": 1,
   "id": "a031f33a",
   "metadata": {},
   "outputs": [],
   "source": [
    "import cmath\n",
    "\n",
    "Dlarge=52.2\n",
    "Dsmall=42.0\n",
    "\n",
    "#attribution of variables used during the program.\n",
    "\n",
    "r=Dlarge/2 #larger radius of the circle.\n",
    "h=Dsmall-r #smaller radius of the sample.\n",
    "f=Dlarge-Dsmall #flèch\n",
    "alpha=2*cmath.acos(h/r).real\n",
    "g=9.80665 #m.s^-2\n",
    "sigmath=0.8 #MPa\n",
    "\n",
    "#print(alpha*360/(2*cmath.pi))"
   ]
  },
  {
   "cell_type": "code",
   "execution_count": 2,
   "id": "967b4b88",
   "metadata": {},
   "outputs": [
    {
     "name": "stdout",
     "output_type": "stream",
     "text": [
      "Surface de l'échantillon = 1845.36 mm²\n"
     ]
    }
   ],
   "source": [
    "#Détermination de l'aire de la surface supérieur/inférieur de l'échantillon (en mm²)\n",
    "Ac=cmath.pi*pow(r,2) #Aire du cercle entier\n",
    "As=Ac*alpha/(2*cmath.pi) #Aire du secteur du cercle d'angle alpha\n",
    "At=1/2*pow(r,2)*cmath.sin(alpha).real #Aire du triangle isocèle dans le cercle\n",
    "A1=As-At #Aire du segment de cercle\n",
    "\n",
    "Af=Ac-A1#Aire final recherché\n",
    "\n",
    "#print(\"Ac=\",Ac, \"As=\",As,\"At=\",At,\"A1=\",A1)\n",
    "print(\"Surface de l'échantillon = {:.2f} mm²\".format(Af))"
   ]
  },
  {
   "cell_type": "code",
   "execution_count": 3,
   "id": "d2ad9a5e",
   "metadata": {},
   "outputs": [
    {
     "name": "stdout",
     "output_type": "stream",
     "text": [
      "Masse théorique = 10385 g ou 10.385 kg\n"
     ]
    }
   ],
   "source": [
    "#Détermination de la masse théorique à utiliser \n",
    "\n",
    "Mth=(sigmath*Af-22.38)/(0.14)\n",
    "M2=(sigmath*Af-19.42)/(0.14)\n",
    "print(\"Masse théorique = {:.1f} g ou {:.3f} kg\".format(Mth,Mth*0.001))"
   ]
  },
  {
   "cell_type": "code",
   "execution_count": null,
   "id": "a1dd1a86",
   "metadata": {},
   "outputs": [],
   "source": []
  }
 ],
 "metadata": {
  "kernelspec": {
   "display_name": "Python 3",
   "language": "python",
   "name": "python3"
  },
  "language_info": {
   "codemirror_mode": {
    "name": "ipython",
    "version": 3
   },
   "file_extension": ".py",
   "mimetype": "text/x-python",
   "name": "python",
   "nbconvert_exporter": "python",
   "pygments_lexer": "ipython3",
   "version": "3.8.8"
  }
 },
 "nbformat": 4,
 "nbformat_minor": 5
}
